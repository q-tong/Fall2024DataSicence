{
 "cells": [
  {
   "cell_type": "markdown",
   "id": "86347be6",
   "metadata": {},
   "source": [
    "# Data Analysis Homework 1: Pandas and Numpy"
   ]
  },
  {
   "cell_type": "markdown",
   "id": "2433dbfe",
   "metadata": {},
   "source": [
    "Objective: The aim of this assignment is to demonstrate your proficiency in using Jupyter Notebook, IPython, and particularly the Pandas library for data analysis."
   ]
  },
  {
   "cell_type": "markdown",
   "id": "734ee943",
   "metadata": {},
   "source": [
    "### Requirements"
   ]
  },
  {
   "cell_type": "markdown",
   "id": "e3ef1494",
   "metadata": {},
   "source": [
    "- Create a new Jupyter Notebook. Import all necessary libraries.(10 points)\n",
    "- Write a brief summary of your findings. Add comments and Markdown cells in your Jupyter Notebook to explain your code and results. (10 points)"
   ]
  },
  {
   "cell_type": "markdown",
   "id": "dc6ffe76",
   "metadata": {},
   "source": [
    "### Submission Guidelines "
   ]
  },
  {
   "cell_type": "markdown",
   "id": "0d88866f",
   "metadata": {},
   "source": [
    "- To avoid plagiarize, you can upload your notebook and datasets in github with 'private' repository; and only upload the notebook files in canvas, a pdf formart with clear result shown will be easier for TA to grade.\n",
    "- Ensure that your code is clean, well-commented, and easily understandable."
   ]
  },
  {
   "cell_type": "code",
   "execution_count": 1,
   "id": "703f7bbe",
   "metadata": {},
   "outputs": [],
   "source": [
    "import numpy as np\n",
    "import pandas as pd"
   ]
  },
  {
   "cell_type": "markdown",
   "id": "84551481",
   "metadata": {},
   "source": [
    "Q1(30 point): \n",
    "Implement a class for n-sided polygons and a class for points in a Euclidean system, namely *polygon* and *point* respectively. For example, a 4-sided polygon can be defined by 4 points P1, P2, P3, P4, and\n",
    "P1-P4 are each points of the form point(X,Y), and X and Y are coordinates on the X and Y axis, respectively. The edges are listed counterclockwise starting at the lower left: P1 to P2, P2 to P3, P3 to P4, and P4 to P1.  The polygon class should work for polygons of any number of edges and have a function perimeter that returns its perimeter (sum of the lengths of the edges).  (20points)\n",
    "\n",
    "Hint: use the Pythagorian theorem: if a line segment Z starts at (X1,Y1) and ends at (X2, Y2), the length of Z is the square root of (X1-X2)^2 + (Y1-Y2)^2. \n",
    "\n",
    "Example:\n",
    "The perimeter of the polygon/triangle on point(1,1), point(1,2), and point(2,2) is 3.4;\n",
    "The perimeter of the 4-sided polygon on point(2,1), point(2,3), point(6,3), and point(4,1) is 10.8;\n",
    "print out these two examples. (10points)"
   ]
  },
  {
   "cell_type": "code",
   "execution_count": null,
   "id": "a848c996",
   "metadata": {},
   "outputs": [],
   "source": []
  },
  {
   "cell_type": "markdown",
   "id": "fa5a8c92",
   "metadata": {},
   "source": [
    "Q2(50 point):\n",
    "- Use Pandas to load both data/AIS/transit_segments.csv, and data/AIS/vessel_information.csv. Show the first 5 rows of each dataset to inspect it.(10points)\n",
    "- For data/AIS/vessel_information.csv, keep only those rows with the type value occurring for at least 100 times in the dataset. (10points)\n",
    "- Merge data/AIS/vessel_information.csv and data/AIS/transit_segments.csv on the \"mmsi\" column using outer join. (10points)\n",
    "- If you are *not* allowed to call the inner join provided by Pandas but have the above outer join results, how to get the results of inner join? You can use other functions provided by Pandas (but not a function that directly implements the inner join). (10points)\n",
    "- Now directly call the inner join provided by Pandas, check whether your results above are exactly the same.(10points)"
   ]
  },
  {
   "cell_type": "code",
   "execution_count": null,
   "id": "83a7b417",
   "metadata": {},
   "outputs": [],
   "source": []
  }
 ],
 "metadata": {
  "kernelspec": {
   "display_name": "Python 3 (ipykernel)",
   "language": "python",
   "name": "python3"
  },
  "language_info": {
   "codemirror_mode": {
    "name": "ipython",
    "version": 3
   },
   "file_extension": ".py",
   "mimetype": "text/x-python",
   "name": "python",
   "nbconvert_exporter": "python",
   "pygments_lexer": "ipython3",
   "version": "3.9.13"
  }
 },
 "nbformat": 4,
 "nbformat_minor": 5
}
