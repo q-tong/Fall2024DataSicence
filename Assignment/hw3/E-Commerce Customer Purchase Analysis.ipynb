{
 "cells": [
  {
   "cell_type": "markdown",
   "metadata": {},
   "source": [
    "## E-Commerce Customer Purchase Analysis"
   ]
  },
  {
   "cell_type": "markdown",
   "metadata": {},
   "source": [
    "We want to study an E-commerce dataset:\n",
    "\n",
    " - Load the data and inspect it to understand its structure. (10 points)\n",
    " - Complete each task by creating the required visualizations using Plotly. (10 points each)\n",
    " - Use clear titles and labels for your charts so that they are easy to understand. (20 points)\n",
    " - Use Markdown cells to provide brief explanations of your findings and insights. (10 points)\n"
   ]
  },
  {
   "cell_type": "markdown",
   "metadata": {},
   "source": [
    "#### 1. Create a vertical bar chart that shows the total sales (in dollars) for the top 10 products based on Description.  Calculate total sales as Quantity * UnitPrice."
   ]
  },
  {
   "cell_type": "markdown",
   "metadata": {},
   "source": [
    "#### 2. Create a horizontal bar chart showing total sales by country for the top 10 countries. Calculate total sales per country as the sum of Quantity * UnitPrice for each country."
   ]
  },
  {
   "cell_type": "markdown",
   "metadata": {},
   "source": [
    "#### 3. Create a pie chart to display the distribution of quantities sold for the top 6 products by quantity."
   ]
  },
  {
   "cell_type": "markdown",
   "metadata": {},
   "source": [
    "#### 4. Convert InvoiceDate to month and create a line chart showing total monthly sales. The x-axis should represent months, and the y-axis should represent total sales in dollars."
   ]
  },
  {
   "cell_type": "markdown",
   "metadata": {},
   "source": [
    "#### 5. Create a box plot showing the distribution of UnitPrice for the top 6 products by total quantity sold."
   ]
  },
  {
   "cell_type": "markdown",
   "metadata": {},
   "source": [
    "#### 6. Create a scatter plot showing the correlation between UnitPrice and Quantity for all products. Use a trend line to show any correlation between price and quantity."
   ]
  },
  {
   "cell_type": "code",
   "execution_count": null,
   "metadata": {},
   "outputs": [],
   "source": []
  }
 ],
 "metadata": {
  "kernelspec": {
   "display_name": "Python 3 (ipykernel)",
   "language": "python",
   "name": "python3"
  },
  "language_info": {
   "codemirror_mode": {
    "name": "ipython",
    "version": 3
   },
   "file_extension": ".py",
   "mimetype": "text/x-python",
   "name": "python",
   "nbconvert_exporter": "python",
   "pygments_lexer": "ipython3",
   "version": "3.9.13"
  }
 },
 "nbformat": 4,
 "nbformat_minor": 1
}
