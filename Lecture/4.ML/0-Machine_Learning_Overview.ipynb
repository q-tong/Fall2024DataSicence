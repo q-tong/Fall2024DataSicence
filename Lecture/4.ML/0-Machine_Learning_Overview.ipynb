{
 "cells": [
  {
   "cell_type": "markdown",
   "metadata": {
    "slideshow": {
     "slide_type": "slide"
    }
   },
   "source": [
    "\n",
    " ## Introduction to Machine Learning"
   ]
  },
  {
   "cell_type": "markdown",
   "metadata": {
    "slideshow": {
     "slide_type": "slide"
    }
   },
   "source": [
    "### Machine Learning\n",
    "\n",
    "- \"A breakthrough in machine learning would be worth ten Microsofts” (Bill Gates, Chairman, Microsoft)\n",
    "\n",
    "- \"Machine learning is the next Internet” (Tony Tether, Director, DARPA)\n",
    "\n",
    "- \"Machine learning is the hot new thing” (John Hennessy, President, Stanford)\n",
    "\n",
    "- \"Web rankings today are mostly a matter of machine learning” (Prabhakar Raghavan, Dir. Research, Yahoo)\n",
    "\n",
    "- \"Machine learning is going to result in a real revolution” (Greg Papadopoulos, CTO, Sun)\n"
   ]
  },
  {
   "cell_type": "markdown",
   "metadata": {
    "slideshow": {
     "slide_type": "slide"
    }
   },
   "source": [
    "### What is Machine Learning\n",
    "\n",
    "- Automating automation\n",
    "\n",
    "- Getting computers to program themselves\n",
    "\n",
    "- Writing software is the bottleneck\n",
    "\n",
    "- Let the data do the work instead!\n",
    "\n",
    "\n",
    "\n",
    "<center><img src=\"./images/ml_funny.jpg\" class=\"center\" alt=\"Traditional Programming\" style=\"width: 400px;\"/></center>"
   ]
  },
  {
   "cell_type": "markdown",
   "metadata": {
    "slideshow": {
     "slide_type": "subslide"
    }
   },
   "source": [
    "### More specifically :\n",
    "\n",
    "Machine Learning is:\n",
    "\n",
    "- Study of algorithms that, improve their performance\n",
    "    - at some task\n",
    "    - with experience\n",
    "\n",
    "- Optimize a performance criterion using example data or past experience.\n",
    "\n"
   ]
  },
  {
   "cell_type": "markdown",
   "metadata": {
    "slideshow": {
     "slide_type": "fragment"
    }
   },
   "source": [
    "- Role of Statistics: Inference from a sample\n",
    "\n",
    "- Role of Computer science: Efficient algorithms to\n",
    "    - Solve the optimization problem\n",
    "    - Representing and evaluating the model for inference\n"
   ]
  },
  {
   "cell_type": "markdown",
   "metadata": {
    "slideshow": {
     "slide_type": "slide"
    }
   },
   "source": [
    "#### Example: Spam email\n",
    "\n",
    "<br />\n",
    "\n",
    "<center><img src=\"./images/spam.png\" class=\"center\" alt=\"Traditional Programming\" style=\"width: 900px;\"/></center>"
   ]
  },
  {
   "cell_type": "markdown",
   "metadata": {
    "slideshow": {
     "slide_type": "slide"
    }
   },
   "source": [
    "#### Traditional Programming\n",
    "<center><img src=\"./images/Picture1.png\" class=\"center\" alt=\"Traditional Programming\" style=\"width: 900px;\"/></center>\n",
    "\n",
    "\n",
    "\n"
   ]
  },
  {
   "cell_type": "markdown",
   "metadata": {
    "slideshow": {
     "slide_type": "fragment"
    }
   },
   "source": [
    "#### Machine Learning\n",
    "<center><img src=\"./images/Picture2.png\" class=\"center\" alt=\"\" style=\"width: 900px;\"/></center>\n",
    "\n"
   ]
  },
  {
   "cell_type": "markdown",
   "metadata": {
    "slideshow": {
     "slide_type": "slide"
    }
   },
   "source": [
    "### Machine Learning \n",
    "\n",
    "##### Machine Machine learning is about predicting the future based on the past.\n",
    "\t\t\t\t\t-- Hal Daume III\n",
    "<center><img src=\"./images/ml1.png\" class=\"center\" alt=\"Machine Learning\" style=\"width: 900px;\"/></center>"
   ]
  },
  {
   "cell_type": "markdown",
   "metadata": {
    "slideshow": {
     "slide_type": "slide"
    }
   },
   "source": [
    "### Types of Machine Learning Algorithms\n",
    "\n",
    "- **Supervised (inductive) learning**\n",
    "    - Training data includes desired outputs\n",
    "    - Classification\n",
    "    - Regression/Prediction\n",
    "\n",
    "- **Unsupervised learning**\n",
    "    - Training data does not include desired outputs\n",
    "        \n",
    "- **Semi-supervised learning**\n",
    "    - Training data includes a few desired outputs\n",
    "\n",
    "- **Reinforcement learning**\n",
    "    - Rewards from sequence of actions\n"
   ]
  },
  {
   "cell_type": "markdown",
   "metadata": {
    "slideshow": {
     "slide_type": "subslide"
    }
   },
   "source": [
    "<center><img src=\"https://miro.medium.com/max/3670/1*FUZS9K4JPqzfXDcC83BQTw.png\" class=\"center\" alt=\"Machine Learning\" style=\"width: 900px;\"/></center> \n",
    "\n",
    "[Reference](https://miro.medium.com/max/3670/1*FUZS9K4JPqzfXDcC83BQTw.png)"
   ]
  },
  {
   "cell_type": "markdown",
   "metadata": {
    "slideshow": {
     "slide_type": "subslide"
    }
   },
   "source": [
    "#### Supervised (inductive) Learning\n",
    "\n",
    "<div style=\"font-size: 200%;\">  \n",
    "$$X \\rightarrow Y$$\n",
    "</div>\n",
    "\n"
   ]
  },
  {
   "cell_type": "markdown",
   "metadata": {
    "slideshow": {
     "slide_type": "subslide"
    }
   },
   "source": [
    "**Data with Labels**\n",
    "\n",
    "<center><img src=\"./images/sl1.png\" class=\"center\" alt=\"Machine Learning\" style=\"width: 900px;\"/></center>"
   ]
  },
  {
   "cell_type": "markdown",
   "metadata": {
    "slideshow": {
     "slide_type": "subslide"
    }
   },
   "source": [
    "#### Supervised (inductive) Learning\n",
    "\n",
    "\n",
    "**Develop Model**\n",
    "\n",
    "<center><img src=\"./images/sl2.png\" class=\"center\" alt=\"Machine Learning\" style=\"width: 900px;\"/></center>"
   ]
  },
  {
   "cell_type": "markdown",
   "metadata": {
    "slideshow": {
     "slide_type": "subslide"
    }
   },
   "source": [
    "#### Supervised (inductive) Learning\n",
    "\n",
    "\n",
    "**Predict for new data**\n",
    "\n",
    "<center><img src=\"./images/sl3.png\" class=\"center\" alt=\"Machine Learning\" style=\"width: 900px;\"/></center>"
   ]
  },
  {
   "cell_type": "markdown",
   "metadata": {
    "slideshow": {
     "slide_type": "subslide"
    }
   },
   "source": [
    "#### Supervised (inductive) learning\n",
    "\n",
    "<center>\n",
    "<img src=\"./images/classification1.png\" class=\"center\" alt=\"\" style=\"width: 600px;\"/></center>\n",
    "\n",
    "- Example: Credit scoring\n",
    "    - Goal: Differentiating between low-risk and high-risk customers from their income and savings\n",
    "    \n",
    "\n",
    "\n",
    "- Model: \n",
    "    - ```IF income > θ1 AND savings > θ2 THEN low-risk ELSE high-risk```\n",
    "\n"
   ]
  },
  {
   "cell_type": "markdown",
   "metadata": {
    "slideshow": {
     "slide_type": "subslide"
    }
   },
   "source": [
    "#### Supervised (inductive) learning\n",
    "\n",
    "<img src=\"./images/classification2.png\" class=\"center\" alt=\"\" style=\"width: 400px;\"/>\n",
    "\n",
    "- Example: Price of a used car\n",
    "\n",
    "\n",
    "<div style=\"font-size: 150%;\">  \n",
    "$$x \\xrightarrow[\\text{}]{\\text{f(x|θ)}} y$$\n",
    "</div>\n",
    "\n",
    "\n",
    "- x : car attributes\n",
    "\n",
    "- y : price\n",
    "    - y = f (x | θ )\n",
    "    - f( ) model,\n",
    "\t- θ parameters\n"
   ]
  },
  {
   "cell_type": "markdown",
   "metadata": {
    "slideshow": {
     "slide_type": "subslide"
    }
   },
   "source": [
    "#### Supervised Learning\n",
    "\n",
    "\n",
    "\n",
    "<center><img src=\"./images/super_struct.png\" class=\"center\" alt=\"\" style=\"width: 600px;\"/>\n",
    "**Supervised Learning**\n",
    "</center>"
   ]
  },
  {
   "cell_type": "markdown",
   "metadata": {
    "slideshow": {
     "slide_type": "subslide"
    }
   },
   "source": [
    "### Assumption of Machine Learning\n",
    "\n",
    "***The distribution of training examples is identical to the distribution of test examples (including future unseen examples).***\n",
    "\n",
    "- In practice, this assumption is often violated to certain degree. \n",
    "\n",
    "- Strong violations will clearly result in poor classification accuracy. \n",
    "\n",
    "- To achieve good accuracy on the test data, training examples must be sufficiently representative of the test data. \n"
   ]
  },
  {
   "cell_type": "markdown",
   "metadata": {
    "slideshow": {
     "slide_type": "subslide"
    }
   },
   "source": [
    "#### Supervised (inductive) learning - Use Cases\n",
    "\n",
    "- Prediction of future cases: Use the rule to predict the output for future inputs\n",
    "\n",
    "\n",
    "- Knowledge extraction: The rule is easy to understand\n",
    "\n",
    "\n",
    "- Compression: The rule is simpler than the data it explains\n",
    "\n",
    "\n",
    "- Outlier detection: Exceptions that are not covered by the rule, e.g., fraud\n",
    "\n"
   ]
  },
  {
   "cell_type": "markdown",
   "metadata": {
    "slideshow": {
     "slide_type": "slide"
    }
   },
   "source": [
    "#### Un-Supervised learning\n",
    "\n",
    "<div style=\"font-size: 200%;\">  \n",
    "$$f(X)$$\n",
    "</div>\n",
    "\n",
    "- Learning “what normally happens”\n",
    "\n",
    "- Clustering: Grouping similar instances\n",
    "\n",
    "- Other applications: Summarization, Association Analysis\n",
    "\n",
    "\n",
    "**Unupervised learning: given data, i.e. examples, but no labels**\n",
    "\n"
   ]
  },
  {
   "cell_type": "markdown",
   "metadata": {
    "slideshow": {
     "slide_type": "subslide"
    }
   },
   "source": [
    "<img src=\"./images/ul1.png\" class=\"center\" alt=\"\" style=\"width: 600px;\"/>"
   ]
  },
  {
   "cell_type": "markdown",
   "metadata": {
    "slideshow": {
     "slide_type": "subslide"
    }
   },
   "source": [
    "#### Un-Supervised learning\n",
    "\n",
    "<img src=\"./images/unsupervised1.png\" class=\"center\" alt=\"\" style=\"width: 600px;\"/>\n",
    "\n",
    "- Learning “what normally happens”\n",
    "\n",
    "- Clustering: Grouping similar instances\n",
    "\n",
    "- Other applications: Summarization, Association Analysis\n",
    "\n",
    "\n",
    "Example applications\n",
    "- Customer segmentation in CRM\n",
    "\n",
    "- Image compression: Color quantization\n",
    "\n",
    "- Bioinformatics: Learning motifs\n",
    "\n"
   ]
  },
  {
   "cell_type": "markdown",
   "metadata": {
    "slideshow": {
     "slide_type": "subslide"
    }
   },
   "source": [
    "#### Un-Supervised Learing\n",
    "\n",
    "\n",
    "\n",
    "<center><img src=\"./images/unsuper_struct.png\" class=\"center\" alt=\"\" style=\"width: 600px;\"/>**Un-Supervised Learning**\n",
    "</center>"
   ]
  },
  {
   "cell_type": "markdown",
   "metadata": {
    "slideshow": {
     "slide_type": "subslide"
    }
   },
   "source": [
    "#### Supervised Versus Un-Supervised learning\n",
    "\n",
    "\n",
    "<center><img src=\"./images/supervised.png\" class=\"center\" alt=\"\" style=\"width: 400px;\"/></center>\n",
    "\n",
    "\n",
    "<center><img src=\"./images/unsupervised.png\" class=\"center\" alt=\"\" style=\"width: 400px;\"/></center>\n"
   ]
  },
  {
   "cell_type": "markdown",
   "metadata": {
    "slideshow": {
     "slide_type": "slide"
    }
   },
   "source": [
    "#### Reinforcement Learning\n",
    "\n",
    "</br>\n",
    "\n",
    "</br>\n",
    "</br>\n",
    "\n",
    "<center><img src=\"./images/rl1.png\" class=\"center\" alt=\"\" style=\"width: 600px;\"/></center>\n",
    "\n",
    "Given a ***sequence*** of examples/states and a ***reward*** after completing that sequence, learn to predict the action to take in for an individual example/state\n"
   ]
  },
  {
   "cell_type": "markdown",
   "metadata": {
    "slideshow": {
     "slide_type": "subslide"
    }
   },
   "source": [
    "#### Reinforcement Learning\n",
    "\n",
    "</br>\n",
    "\n",
    "</br>\n",
    "</br>\n",
    "\n",
    "<center><img src=\"./images/rl2.png\" class=\"center\" alt=\"\" style=\"width: 600px;\"/></center>\n",
    "\n",
    "***Backgammon***: Given sequences of moves and whether or not the player won at the end, learn to make good moves.\n"
   ]
  },
  {
   "cell_type": "markdown",
   "metadata": {
    "slideshow": {
     "slide_type": "subslide"
    }
   },
   "source": [
    "#### Reinforcement Learning\n",
    "\n",
    "</br>\n",
    "\n",
    "</br>\n",
    "</br>\n",
    "\n",
    "<center><img src=\"./images/alphago.jpg\" class=\"center\" alt=\"\" style=\"width: 600px;\"/></center>\n",
    "\n",
    "***Deep Mind Alpha-Go*** beating ***Lee Sedol*** (best Go player in the world)"
   ]
  },
  {
   "cell_type": "markdown",
   "metadata": {
    "slideshow": {
     "slide_type": "slide"
    }
   },
   "source": [
    "### Redefine Machine Learning\n",
    "\n",
    "- Given\n",
    "    - a data set **D**, \n",
    "    - a task **T**, and \n",
    "    - a performance measure **M**, \n",
    "\n",
    "*a computer system is said to <b>learn</b> from <b>D</b> to <b>perform</b> the task <b>T</b>, if after learning, the system’s performance on <b>T improves</b> as measured by <b>M</b>.*\n",
    "\n",
    "\n",
    "- In other words, the learned model helps the system to perform T better as compared to no learning. \n"
   ]
  },
  {
   "cell_type": "markdown",
   "metadata": {
    "slideshow": {
     "slide_type": "slide"
    }
   },
   "source": [
    "### Machine Learning\n",
    "\n",
    "- Tens of thousands of machine learning algorithms\n",
    "    - Hundreds new every year\n",
    "\n",
    "\n",
    "\n",
    "\n",
    "\n",
    "- Every machine learning algorithm has three components:\n",
    "    - Representation\n",
    "\n",
    "    - Evaluation\n",
    "    \n",
    "    - Optimization\n"
   ]
  },
  {
   "cell_type": "markdown",
   "metadata": {
    "slideshow": {
     "slide_type": "subslide"
    }
   },
   "source": [
    "#### Representation - What is the model design landscape?\n",
    "\n",
    "- Decision trees\n",
    "\n",
    "- Sets of rules / Logic programs\n",
    "\n",
    "- Instances\n",
    "\n",
    "- Graphical models (Bayes/Markov nets)\n",
    "\n",
    "- Neural networks\n",
    "\n",
    "- Support vector machines\n",
    "\n",
    "- Model ensembles\n",
    "\n",
    "- ...\n",
    "\n",
    "<center><img src=\"./images/represent.jpg\" class=\"center\" alt=\"\" style=\"width: 300px;\"/></center>"
   ]
  },
  {
   "cell_type": "markdown",
   "metadata": {
    "slideshow": {
     "slide_type": "subslide"
    }
   },
   "source": [
    "#### Evaluation - How is the model doing?\n",
    "\n",
    "- Accuracy\n",
    "\n",
    "- Precision and recall\n",
    "\n",
    "- Squared error\n",
    "\n",
    "- Likelihood\n",
    "\n",
    "- Posterior probability\n",
    "\n",
    "- Cost / Utility\n",
    "\n",
    "- Margin\n",
    "\n",
    "- Entropy\n",
    "\n",
    "- K-L divergence\n",
    "\n",
    "- ...\n",
    "\n",
    "\n",
    "<center><img src=\"./images/evaluate.jpg\" class=\"center\" alt=\"\" style=\"width: 200px;\"/></center>"
   ]
  },
  {
   "cell_type": "markdown",
   "metadata": {
    "slideshow": {
     "slide_type": "subslide"
    }
   },
   "source": [
    "#### Optimization - How can we get better models?\n",
    "\n",
    "- Combinatorial optimization\n",
    "    - Greedy search\n",
    "\n",
    "- Convex optimization\n",
    "    - Gradient descent\n",
    "\n",
    "- Constrained optimization\n",
    "    - Linear programming\n",
    "\n",
    "\n",
    "<center><img src=\"./images/optimize.png\" class=\"center\" alt=\"\" style=\"width: 400px;\"/></center>"
   ]
  },
  {
   "cell_type": "markdown",
   "metadata": {
    "slideshow": {
     "slide_type": "slide"
    }
   },
   "source": [
    "<center><img src=\"./images/gardening.jpg\" class=\"center\" alt=\"Machine Learning\" style=\"width: 600px;\"/></center>\n",
    "\n",
    "<h3><center>Machine Learning</center></h3>\n",
    "\n",
    "\n",
    "\n",
    "- **Seeds - Algorithms**\n",
    "\n",
    "- **Nutrients - Data**\n",
    "\n",
    "- **Gardner - You**\n",
    "\n",
    "- **Plants - Programs**\n"
   ]
  },
  {
   "cell_type": "markdown",
   "metadata": {
    "slideshow": {
     "slide_type": "subslide"
    }
   },
   "source": [
    "#### If done right\n",
    "\n",
    "<center><img src=\"./images/garden1.jpg\" class=\"center\" alt=\"\" style=\"width: 600px;\"/></center>\n",
    "\n",
    "\n",
    "<center><img src=\"./images/garden2.jpg\" class=\"center\" alt=\"\" style=\"width: 600px;\"/></center>"
   ]
  },
  {
   "cell_type": "markdown",
   "metadata": {
    "slideshow": {
     "slide_type": "subslide"
    }
   },
   "source": [
    "#### If done wrong\n",
    "\n",
    "<center><img src=\"./images/garden3.jpg\" class=\"center\" alt=\"\" style=\"width: 600px;\"/></center>"
   ]
  },
  {
   "cell_type": "markdown",
   "metadata": {
    "slideshow": {
     "slide_type": "slide"
    }
   },
   "source": [
    "### Growth of Machine Learning\n",
    "\n",
    "- Machine learning is preferred approach to\n",
    "    - Speech recognition, Natural language processing\n",
    "    \n",
    "    - Computer vision\n",
    "    \n",
    "    - Medical outcomes analysis\n",
    "    \n",
    "    - Robot control\n",
    "    \n",
    "    - Web search \n",
    "    \n",
    "    - Finance\n",
    "    \n",
    "    - Social Networks"
   ]
  },
  {
   "cell_type": "markdown",
   "metadata": {
    "slideshow": {
     "slide_type": "fragment"
    }
   },
   "source": [
    "\n",
    "\n",
    "This trend is accelerating\n",
    "   - Improved machine learning algorithms\n",
    "   - Improved data capture, networking, faster computers\n",
    "   - Software too complex to write by hand\n",
    "   - New sensors / IO devices\n",
    "   - Big Data\n"
   ]
  },
  {
   "cell_type": "markdown",
   "metadata": {
    "slideshow": {
     "slide_type": "slide"
    }
   },
   "source": [
    "### No Free Lunch(s) Theorem (NFLT)\n",
    "\n",
    "*** Machine Learned Models are based on Assumptions*** \n",
    "\n",
    "- A model is a simplification of reality which ignores *unnecessary details*. \n",
    "    - these are the assumptions in the model\n",
    "    \n",
    "    \n",
    "- So a model might perform well in certain scenarios, while not as well in others.\n",
    "\n",
    "\n",
    "- NFLT - There is no universal model for every scenario/problem\n",
    "\n",
    "<br />\n",
    "\n",
    "<br />\n",
    "\n",
    "<br />\n",
    "\n",
    "\n",
    "<center><img src=\"./images/freelunch.jpg\" class=\"center\" alt=\"\" style=\"width: 400px;\"/></center>"
   ]
  }
 ],
 "metadata": {
  "celltoolbar": "Slideshow",
  "kernelspec": {
   "display_name": "Python 2",
   "language": "python",
   "name": "python2"
  },
  "language_info": {
   "codemirror_mode": {
    "name": "ipython",
    "version": 2
   },
   "file_extension": ".py",
   "mimetype": "text/x-python",
   "name": "python",
   "nbconvert_exporter": "python",
   "pygments_lexer": "ipython2",
   "version": "2.7.15+"
  }
 },
 "nbformat": 4,
 "nbformat_minor": 2
}
