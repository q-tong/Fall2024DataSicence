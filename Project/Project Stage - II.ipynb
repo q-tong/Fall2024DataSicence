{
 "cells": [
  {
   "cell_type": "markdown",
   "metadata": {},
   "source": [
    "## Project Stage - II (Data Modeling)"
   ]
  },
  {
   "cell_type": "markdown",
   "metadata": {},
   "source": [
    "## Goals\n",
    "\n",
    "The goal of Stage II is to develop the data for modeling and comparative analysis. Here you will be comparing how US is doing with other countries in COVID cases and deaths. And you will be also analysing county based information for different states in the US. Since COVID dataset is huge, we will focus the analysis on selected dates, starts from 2020.6.1(Monday) - 2021.1.3(Sunday). \n"
   ]
  },
  {
   "cell_type": "markdown",
   "metadata": {},
   "source": [
    "### Tasks:\n",
    "\n",
    "#### Task 1: (100 pts)\n",
    "- Team: (50 pts) (Each question 10 pts, markdown 10 pts)\n",
    "    - Compare the weekly statistics (mean, median, mode) for number of cases and deaths across US.  \n",
    "    - Compare the data against other countries of the world. Data at: https://ourworldindata.org/coronavirus-source-data\n",
    "        - Choose at least 5 similar populations countries to compare. \n",
    "    - Plot weekly trends (cases and deaths) of US and compare other countries. Utilize aggregrate, normalized by population, difference in cases, and log normalized values. (hint: do normalization: number of cases per 100,000, and then use np.log10())\n",
    "    - Identify the peak weeks of the cases and deaths in US and other countries. Try to do background research to see what the reasoning for the peaks can be (holidays, vacations, travel, weather, etc). Explain with a description in the notebooks. \n",
    "- Member: (50 pts) (Each question 10 pts, markdown 10 pts)\n",
    "    - Generate weekly statistics (mean, median, mode) for number of cases and deaths across a specific \"state\". \n",
    "    - Compare the data against other states (compare against 5 states). Normalize by population, use a normalization factor which is able to identify cases and deaths, for example try per 10,000 or 100,000 (this depends on the population). Plot the values across the weeks in a line plot for the 5 states in a single graph. Describe why the rates differ across these states in the notebook. Identify the peaks, do they compare with the US pattern?\n",
    "    - Identify five counties within a state of your choice with high cases and death rates. \n",
    "    - Plot weekly trends (cases and deaths) for the top 5 infected counties. Show plots by raw values and log normalized values. Describe what is causing them and what were the peaks. Do the counties follow state pattern. \n",
    "    \n",
    "\n",
    "**Deliverable**\n",
    "- Each member creates separate notebooks for member tasks (with your name). Upload all notebooks and reports to canvas.\n",
    "- Presentation in class.\n",
    "\n",
    "*PS: Try to use `Plotly` for your charts. Will be useful in Stage IV. As plotly graphs are intereactive they are not rendered properly in Github. You can use the approach here to render static images: https://plotly.com/python/static-image-export/. Submission to the repository should contain static images in the notebook.*"
   ]
  },
  {
   "cell_type": "markdown",
   "metadata": {},
   "source": [
    "Clarification: Group members work on different states."
   ]
  },
  {
   "cell_type": "markdown",
   "metadata": {},
   "source": [
    "## Deadline: 09/27/2024"
   ]
  },
  {
   "cell_type": "markdown",
   "metadata": {},
   "source": [
    "### Project Stage II Review Presentation: 2024.10.1 & 2024.10.3, in-class time"
   ]
  },
  {
   "cell_type": "markdown",
   "metadata": {},
   "source": [
    "- In our upcoming Project Stage II Review presentation, each group will have a strict 10 minutes slot to showcase their coding efforts and share the results/reports achieved as a team, as well as individual contributions. \n",
    "\n",
    "- Each team must create their presentation using Microsoft PowerPoint, including necessary tables, graphs, or code. Upload the slides to canvas after presentation. \n",
    "\n",
    "- Within your team, you can either nominate a single presenter or allow team members to take turns presenting. \n",
    "\n",
    "Please note that it's crucial for all team members to be present during the presentation. The instructor might pose questions that require input from any team member, so your collective presence is valuable. Look forward to your insightful presentations!"
   ]
  },
  {
   "cell_type": "markdown",
   "metadata": {},
   "source": [
    "Presentation order:"
   ]
  },
  {
   "cell_type": "code",
   "execution_count": 2,
   "metadata": {},
   "outputs": [
    {
     "name": "stdout",
     "output_type": "stream",
     "text": [
      "Presentation 1: Group 5\n",
      "Presentation 2: Group 1\n",
      "Presentation 3: Group 10\n",
      "Presentation 4: Group 8\n",
      "Presentation 5: Group 3\n",
      "Presentation 6: Group 7\n",
      "Presentation 7: Group 4\n",
      "Presentation 8: Group 9\n",
      "Presentation 9: Group 2\n",
      "Presentation 10: Group 6\n"
     ]
    }
   ],
   "source": [
    "import random\n",
    "group = ['Group 1','Group 2','Group 3','Group 4','Group 5','Group 6','Group 7','Group 8','Group 9','Group 10']\n",
    "random.shuffle(group)\n",
    "for i, group in enumerate(group, start=1):\n",
    "    print(f\"Presentation {i}: {group}\")"
   ]
  }
 ],
 "metadata": {
  "kernelspec": {
   "display_name": "Python 3 (ipykernel)",
   "language": "python",
   "name": "python3"
  },
  "language_info": {
   "codemirror_mode": {
    "name": "ipython",
    "version": 3
   },
   "file_extension": ".py",
   "mimetype": "text/x-python",
   "name": "python",
   "nbconvert_exporter": "python",
   "pygments_lexer": "ipython3",
   "version": "3.9.13"
  },
  "nteract": {
   "version": "0.28.0"
  }
 },
 "nbformat": 4,
 "nbformat_minor": 2
}
