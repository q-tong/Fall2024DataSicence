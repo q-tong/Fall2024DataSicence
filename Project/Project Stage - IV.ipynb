{
 "cells": [
  {
   "cell_type": "markdown",
   "metadata": {},
   "source": [
    "## Project Stage - IV (Basic Machine Learning)  Due: Nov 7"
   ]
  },
  {
   "cell_type": "markdown",
   "metadata": {},
   "source": [
    "## Goals\n",
    "\n",
    "The goal of Stage IV is to utlize machine learning and statistical models to predict the trend of COVID-19 cases / deaths.\n"
   ]
  },
  {
   "cell_type": "markdown",
   "metadata": {},
   "source": [
    "### Tasks for Stage IV: \n",
    "\n",
    "#### Task 1: \n",
    "- Team: (40 points)\n",
    "    - Develop Linear and Non-Linear (polynomial with degree n) regression models for predicting cases and deaths in US. \n",
    "        - Start your data from 2020.06.01 (Monday) to 2021.01.03 (Sunday) of infections in US.\n",
    "            X-Axis - number of days, Y-Axis - number of new cases and deaths. (10 points)\n",
    "        - Calculate and report Root Mean Square Error (RMSE) for your models (linear and non-linear). https://en.wikipedia.org/wiki/Root-mean-square_deviation. Discuss bias versus variance tradeoff. (10 points)\n",
    "        - Plot trend line along for the data along with the forecast of 1 week ahead (i.e. make prediction on 2021.01.04 - 2021.01.10). (10 points)\n",
    "        - Describe the trends as compared to other countries. (10 points)\n",
    "        \n",
    "- Member: (60 points)\n",
    "    - Utilize Linear and Non-Linear (polynomial with degree n) regression models to compare trends for a single state (each member should choose different state) and its counties (top 5 with highest number of cases). Start your data from 2020.06.01 (Monday) to 2021.01.03 (Sunday). \n",
    "        - X-Axis - number of days, Y-Axis number of new cases and deaths. Calcluate error using RMSE.(10 points)\n",
    "        - Identify which counties are most at risk. Model for top 5 counties with cases within a state and describe their trends. (10 points)\n",
    "        - Perform hypothesis tests on questions identified in Stage III. (30 points)\n",
    "            - e.x. *Does higher employment data (overall employment numbers) lead to higher covid case numbers or more rapid increase in covid cases.*. Here you would compare the covid cases to the state or county level enrichment data to prove or disprove your null hypothesis. In this case there will be a two tail - two sample t-test to see if there is a difference and then one-tail - two sample t-test to show higher or lower.\n",
    "            - you can also make 3 new hypotheses and do hypothesis tests on them.\n",
    "            - Depending on your type of data you can also perform Chi-square test for categorical hypothesis testing. \n",
    "    - For each of the aforemention analysis plot figures, the figures should include (10 points)\n",
    "        - trend line (based on the datasets from 2020.06.01 (Monday) to 2021.01.03 (Sunday)).\n",
    "        - prediction path (forecast 1 week).\n",
    "        - confidence intervals (error in prediction). (Further materials you may need to explore: https://lmc2179.github.io/posts/confidence_prediction.html; https://www.geeksforgeeks.org/how-to-plot-a-confidence-interval-in-python/)\n",
    "\n",
    "**Deliverable**\n",
    "- Each member creates separate notebooks for member tasks.\n",
    "- Upload all notebooks and reports to Canvas. Attention: You need to submit both the team work and the member work. The team work will have a same grade within you teammates."
   ]
  },
  {
   "cell_type": "markdown",
   "metadata": {},
   "source": [
    "We will skip the presentation of Stage IV, and make the final presentation in the end of the semester."
   ]
  }
 ],
 "metadata": {
  "kernelspec": {
   "display_name": "Python 3 (ipykernel)",
   "language": "python",
   "name": "python3"
  },
  "language_info": {
   "codemirror_mode": {
    "name": "ipython",
    "version": 3
   },
   "file_extension": ".py",
   "mimetype": "text/x-python",
   "name": "python",
   "nbconvert_exporter": "python",
   "pygments_lexer": "ipython3",
   "version": "3.12.4"
  },
  "nteract": {
   "version": "0.28.0"
  }
 },
 "nbformat": 4,
 "nbformat_minor": 4
}
