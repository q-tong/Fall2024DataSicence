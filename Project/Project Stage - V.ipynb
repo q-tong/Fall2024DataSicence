{
 "cells": [
  {
   "cell_type": "markdown",
   "metadata": {},
   "source": [
    "## Project Stage - V (Dashboard)  "
   ]
  },
  {
   "cell_type": "markdown",
   "metadata": {},
   "source": [
    "## Goals\n",
    "\n",
    "The final stage aims a developing a simple interactive dashboard based on the analysis you have done so far. In this we will be utilizing Plotly (https://plotly.com/) along with Dash (https://plotly.com/dash/) as our framework. \n",
    "\n",
    "Refer here for Plotly: https://github.com/q-tong/CS405-605-Data-Science/tree/main/Fall2023/Lecture/5.Visualization/Visualization\n",
    "\n",
    "Getting started with Dash: https://www.youtube.com/watch?v=hSPmj7mK6ng\n",
    "\n",
    "*PS: This can be invoked from Jupyter, see here: https://medium.com/plotly/introducing-jupyterdash-811f1f57c02e*"
   ]
  },
  {
   "cell_type": "markdown",
   "metadata": {},
   "source": [
    "### Tasks for stage V (team):\n",
    "\n",
    "#### Task 1: (70 pts)\n",
    "\n",
    "    - Main graph\n",
    "        - Allow for selection of date to show the trend of COVID-19 cases and deaths. (30)\n",
    "        - Allow for linear or log mode selection on the number of cases and deaths. (10)\n",
    "        - Incorporate your best model prediction trend line - Linear / Non-Linear. (30)\n",
    "        - Ex: https://ourworldindata.org/coronavirus\n",
    "        \n",
    "#### Task 2: (30 pts)\n",
    "\n",
    "    - Trend\n",
    "        - Plot the trend line using moving average (https://en.wikipedia.org/wiki/Moving_average). Use 7-day moving average. (15)\n",
    "        - Allow for selection of multiple states on the same graph. (15)\n",
    "    \n",
    "    \n",
    "\n",
    "**Deliverable**\n",
    "- Take screenshots of Report upload on canvas.\n",
    "- Each member creates separate notebooks for member tasks. Upload all notebooks to Github Repository. "
   ]
  },
  {
   "cell_type": "markdown",
   "metadata": {},
   "source": [
    "## Deadline: 11/22/2024"
   ]
  },
  {
   "cell_type": "markdown",
   "metadata": {},
   "source": [
    "### Final Presentation: Nov 26, 2024 & Dec 3, 2024\n"
   ]
  },
  {
   "cell_type": "markdown",
   "metadata": {},
   "source": [
    "The final presentation is on Nov 26 (Presentation order 1-5) and Dec 3(Presentation order 6-10). Each group will have exactly 15 minutes slot to showcase your whole project process (make a summary of each stage) and share the results/reports achieved as a team, as well as selected individual work. Within your team, you can either nominate a single presenter or allow team members to take turns presenting. Please note that it's crucial for all team members to be present during the presentation. The instructor might pose questions that require input from any team member, so your collective presence is valuable. Look forward to your insightful presentations!"
   ]
  },
  {
   "cell_type": "markdown",
   "metadata": {},
   "source": [
    "Presentation order:"
   ]
  },
  {
   "cell_type": "code",
   "execution_count": 1,
   "metadata": {},
   "outputs": [
    {
     "name": "stdout",
     "output_type": "stream",
     "text": [
      "Presentation 1: Group 5\n",
      "Presentation 2: Group 2\n",
      "Presentation 3: Group 3\n"
     ]
    }
   ],
   "source": [
    "import random\n",
    "group = ['Group 2','Group 3','Group 5']\n",
    "random.shuffle(group)\n",
    "for i, group in enumerate(group, start=1):\n",
    "    print(f\"Presentation {i}: {group}\")"
   ]
  },
  {
   "cell_type": "code",
   "execution_count": 2,
   "metadata": {},
   "outputs": [
    {
     "name": "stdout",
     "output_type": "stream",
     "text": [
      "Presentation 4: Group 10\n",
      "Presentation 5: Group 9\n",
      "Presentation 6: Group 1\n",
      "Presentation 7: Group 6\n",
      "Presentation 8: Group 7\n",
      "Presentation 9: Group 4\n",
      "Presentation 10: Group 8\n"
     ]
    }
   ],
   "source": [
    "import random\n",
    "group = ['Group 1','Group 4','Group 6','Group 7','Group 8','Group 9','Group 10']\n",
    "random.shuffle(group)\n",
    "for i, group in enumerate(group, start=4):\n",
    "    print(f\"Presentation {i}: {group}\")"
   ]
  },
  {
   "cell_type": "code",
   "execution_count": null,
   "metadata": {},
   "outputs": [],
   "source": []
  }
 ],
 "metadata": {
  "kernelspec": {
   "display_name": "Python 3 (ipykernel)",
   "language": "python",
   "name": "python3"
  },
  "language_info": {
   "codemirror_mode": {
    "name": "ipython",
    "version": 3
   },
   "file_extension": ".py",
   "mimetype": "text/x-python",
   "name": "python",
   "nbconvert_exporter": "python",
   "pygments_lexer": "ipython3",
   "version": "3.9.13"
  },
  "nteract": {
   "version": "0.28.0"
  }
 },
 "nbformat": 4,
 "nbformat_minor": 2
}
