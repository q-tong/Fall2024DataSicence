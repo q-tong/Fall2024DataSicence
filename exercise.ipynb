{
 "cells": [
  {
   "cell_type": "code",
   "execution_count": 1,
   "id": "07109c00",
   "metadata": {},
   "outputs": [
    {
     "name": "stdout",
     "output_type": "stream",
     "text": [
      "Overwriting pets.py\n"
     ]
    }
   ],
   "source": [
    "%%file pets.py\n",
    "\n",
    "class Pet:\n",
    "    def __init__(self, name, species):\n",
    "        self.name = name\n",
    "        self.species = species\n",
    "        \n",
    "    def display(self):\n",
    "        print(f\"{self.name} is a {self.species}\")\n"
   ]
  },
  {
   "cell_type": "code",
   "execution_count": 2,
   "id": "8b11e08b",
   "metadata": {},
   "outputs": [],
   "source": [
    "import pets     # this should be consistent with the file name!"
   ]
  },
  {
   "cell_type": "code",
   "execution_count": 3,
   "id": "9c929a61",
   "metadata": {},
   "outputs": [
    {
     "name": "stdout",
     "output_type": "stream",
     "text": [
      "Fluffy is a Cat\n"
     ]
    }
   ],
   "source": [
    "#create a pet instance\n",
    "fluffy = pets.Pet(\"Fluffy\", \"Cat\")   # be attentaion to the file name and class name\n",
    "\n",
    "#Display pet details\n",
    "fluffy.display()"
   ]
  },
  {
   "cell_type": "code",
   "execution_count": 6,
   "id": "5979e456",
   "metadata": {},
   "outputs": [
    {
     "data": {
      "text/plain": [
       "<module 'pets' from '/Users/tutu/Desktop/work/CS405-605-Data-Science_2/Fall2023/Lecture/0.Introduction/intro/pets.py'>"
      ]
     },
     "execution_count": 6,
     "metadata": {},
     "output_type": "execute_result"
    }
   ],
   "source": [
    "import importlib\n",
    "importlib.reload(pets)"
   ]
  },
  {
   "cell_type": "code",
   "execution_count": 7,
   "id": "66cbb768",
   "metadata": {},
   "outputs": [
    {
     "name": "stdout",
     "output_type": "stream",
     "text": [
      "Fluffy is a 2-year-old Cat\n"
     ]
    }
   ],
   "source": [
    "#create a pet instance\n",
    "fluffy = pets.Pet(\"Fluffy\", \"Cat\", 2)   \n",
    "\n",
    "#Display pet details\n",
    "fluffy.display()"
   ]
  },
  {
   "cell_type": "code",
   "execution_count": null,
   "id": "f401ce2c",
   "metadata": {},
   "outputs": [],
   "source": []
  }
 ],
 "metadata": {
  "kernelspec": {
   "display_name": "Python 3 (ipykernel)",
   "language": "python",
   "name": "python3"
  },
  "language_info": {
   "codemirror_mode": {
    "name": "ipython",
    "version": 3
   },
   "file_extension": ".py",
   "mimetype": "text/x-python",
   "name": "python",
   "nbconvert_exporter": "python",
   "pygments_lexer": "ipython3",
   "version": "3.9.13"
  }
 },
 "nbformat": 4,
 "nbformat_minor": 5
}
